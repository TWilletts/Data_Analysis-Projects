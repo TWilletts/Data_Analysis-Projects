{
 "cells": [
  {
   "cell_type": "code",
   "execution_count": 30,
   "metadata": {},
   "outputs": [],
   "source": [
    "import random"
   ]
  },
  {
   "cell_type": "code",
   "execution_count": 60,
   "metadata": {},
   "outputs": [],
   "source": [
    "MB_Results = []\n",
    "Letter_List = ['A','B']\n",
    "for i in range(70):\n",
    "    Random_val = random.randint(0,1)\n",
    "    MB_Results.append((Letter_List[Random_val]))"
   ]
  },
  {
   "cell_type": "code",
   "execution_count": 63,
   "metadata": {},
   "outputs": [],
   "source": [
    "def assign_MB(MB_Results):\n",
    "    #http://www.lrjj.cn/encrm1.0/public/upload/MBTI-personality-test.pdf\n",
    "    #Sets up scoring values (-1)\n",
    "    Col_1 = (0,7,14,21,28,35,42,49,56,63)\n",
    "    Col_2 = (1,8,15,22,29,36,43,50,57,64)\n",
    "    Col_3 = (2,9,16,23,30,37,44,41,58,65)\n",
    "    Col_4 = (3,10,17,24,31,38,45,51,59,66)\n",
    "    Col_5 = (4,11,18,25,32,39,46,53,60,67)\n",
    "    Col_6 = (5,12,19,26,33,40,47,54,61,68)\n",
    "    Col_7 = (6,13,20,27,34,41,48,55,62,69)\n",
    "\n",
    "    #Sets up category values\n",
    "    E = 0\n",
    "    I = 0\n",
    "    S = 0\n",
    "    N = 0\n",
    "    T = 0\n",
    "    F = 0\n",
    "    J = 0\n",
    "    P = 0\n",
    "\n",
    "    #Adds scores to relevant categories\n",
    "    for i in range(len(MB_Results)):\n",
    "        if i in Col_1:\n",
    "            if MB_Results[i] == 'A':\n",
    "                E += 1\n",
    "            else:\n",
    "                I += 1\n",
    "        elif i in Col_2:\n",
    "            if MB_Results[i] == 'A':\n",
    "                S += 1\n",
    "            else:\n",
    "                N += 1\n",
    "        elif i in Col_3:\n",
    "            if MB_Results[i] == 'A':\n",
    "                S += 1\n",
    "            else:\n",
    "                N += 1\n",
    "        elif i in Col_4:\n",
    "            if MB_Results[i] == 'A':\n",
    "                T += 1\n",
    "            else:\n",
    "                F += 1\n",
    "        elif i in Col_5:\n",
    "            if MB_Results[i] == 'A':\n",
    "                T += 1\n",
    "            else:\n",
    "                F += 1\n",
    "        elif i in Col_6:\n",
    "            if MB_Results[i] == 'A':\n",
    "                J += 1\n",
    "            else:\n",
    "                P += 1\n",
    "        elif i in Col_7:\n",
    "            if MB_Results[i] == 'A':\n",
    "                J += 1\n",
    "            else:\n",
    "                P += 1 \n",
    "                \n",
    "    #Determines largest group/relevant category             \n",
    "    Personality = []\n",
    "    if E > I:\n",
    "        Personality.append('E')\n",
    "    else:\n",
    "        Personality.append('I')\n",
    "    if S > N:\n",
    "        Personality.append('S')\n",
    "    else:\n",
    "        Personality.append('N')\n",
    "    if T > F:\n",
    "        Personality.append('T')\n",
    "    else:\n",
    "        Personality.append('F')\n",
    "    if J > P:\n",
    "        Personality.append('J')\n",
    "    else:\n",
    "        Personality.append('P')\n",
    "        \n",
    "    return Personality"
   ]
  },
  {
   "cell_type": "code",
   "execution_count": 64,
   "metadata": {},
   "outputs": [
    {
     "data": {
      "text/plain": [
       "['I', 'S', 'F', 'P']"
      ]
     },
     "execution_count": 64,
     "metadata": {},
     "output_type": "execute_result"
    }
   ],
   "source": [
    "assign_MB(MB_Results)"
   ]
  },
  {
   "cell_type": "code",
   "execution_count": 51,
   "metadata": {},
   "outputs": [
    {
     "data": {
      "text/plain": [
       "{'E': 3, 'I': 7, 'S': 7, 'N': 13, 'T': 13, 'F': 7, 'J': 10, 'P': 9}"
      ]
     },
     "execution_count": 51,
     "metadata": {},
     "output_type": "execute_result"
    }
   ],
   "source": [
    "{'E':E,\n",
    " 'I':I,\n",
    " 'S':S,\n",
    " 'N':N,\n",
    " 'T':T,\n",
    " 'F':F,\n",
    " 'J':J,\n",
    " 'P':P}"
   ]
  },
  {
   "cell_type": "code",
   "execution_count": null,
   "metadata": {},
   "outputs": [],
   "source": []
  }
 ],
 "metadata": {
  "kernelspec": {
   "display_name": "Python 3",
   "language": "python",
   "name": "python3"
  },
  "language_info": {
   "codemirror_mode": {
    "name": "ipython",
    "version": 3
   },
   "file_extension": ".py",
   "mimetype": "text/x-python",
   "name": "python",
   "nbconvert_exporter": "python",
   "pygments_lexer": "ipython3",
   "version": "3.7.10"
  }
 },
 "nbformat": 4,
 "nbformat_minor": 4
}
