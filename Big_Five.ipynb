{
 "cells": [
  {
   "cell_type": "code",
   "execution_count": 2,
   "metadata": {},
   "outputs": [],
   "source": [
    "import random\n",
    "import operator"
   ]
  },
  {
   "cell_type": "code",
   "execution_count": 1,
   "metadata": {},
   "outputs": [],
   "source": [
    "def reverse_code(x):\n",
    "    x = 6 - x\n",
    "    return(x)"
   ]
  },
  {
   "cell_type": "code",
   "execution_count": 56,
   "metadata": {},
   "outputs": [],
   "source": [
    "text_list = []\n",
    "questions = [\"Is talkative\", \"Tends to find fauly with others\", \"Does a thorough job\"]\n",
    "def process_big_5(x):\n",
    "    answers = []\n",
    "    print(\"For each question, answer the statement from 1 (strongly disagree) to 5 (strongly agree).\")\n",
    "    for i in range(x):\n",
    "        x = input(f'{questions[i]}:')\n",
    "        answers.append(x)\n",
    "        #reverse_code(answers)\n",
    "    print(answers)"
   ]
  },
  {
   "cell_type": "code",
   "execution_count": null,
   "metadata": {},
   "outputs": [],
   "source": [
    "process_big_5(3)"
   ]
  },
  {
   "cell_type": "code",
   "execution_count": 57,
   "metadata": {},
   "outputs": [
    {
     "data": {
      "text/plain": [
       "5"
      ]
     },
     "execution_count": 57,
     "metadata": {},
     "output_type": "execute_result"
    }
   ],
   "source": [
    "answers = [5,1,3,4]\n",
    "reverse_code(answers[1])"
   ]
  },
  {
   "cell_type": "code",
   "execution_count": 58,
   "metadata": {},
   "outputs": [],
   "source": [
    "Big_Five_Results = []\n",
    "for i in range(44):\n",
    "    Big_Five_Results.append(random.randint(1,5))\n",
    "#Big_Five_Results"
   ]
  },
  {
   "cell_type": "code",
   "execution_count": 59,
   "metadata": {},
   "outputs": [],
   "source": [
    "#Big 5 questions that require recoding\n",
    "#https://fetzer.org/sites/default/files/images/stories/pdf/selfmeasures/Personality-BigFiveInventory.pdf\n",
    "Reverse_code_values = (6, 21, 31, 2, 12, 27, 37, 8, 18, 23, 43, 9, 24, 34, 35, 41)\n",
    "#Positions in our output that require recoding (values-1)\n",
    "Reverse_code_positions = (5, 20, 30, 1, 11, 26, 36, 7, 17, 22, 42, 9, 23, 33, 34, 40)\n",
    "#Reverses all relevant values\n",
    "for i in range(len(Big_Five_Results)):\n",
    "    if i in Reverse_code_positions:\n",
    "        Big_Five_Results[i] = reverse_code(Big_Five_Results[i])\n",
    "    else:\n",
    "        pass\n",
    "#Big_Five_Results"
   ]
  },
  {
   "cell_type": "code",
   "execution_count": 60,
   "metadata": {},
   "outputs": [
    {
     "name": "stdout",
     "output_type": "stream",
     "text": [
      "(31, 'E')\n",
      "31 23 22 24 27\n"
     ]
    }
   ],
   "source": [
    "#Sets up scoring values (-1)\n",
    "E_positions = (0,5,10,15,20,25,30,35)\n",
    "A_positions = (1,6,11,16,21,26,31,36,41)\n",
    "C_positions = (2,7,12,17,22,27,32,37,42)\n",
    "N_positions = (3,8,13,18,23,28,33,38)\n",
    "O_positions = (4,9,14,19,24,29,34,39,40,43)\n",
    "\n",
    "#Sets up category values\n",
    "Extraversion = 0\n",
    "Agreeableness = 0\n",
    "Conscientiousness = 0\n",
    "Neuroticism = 0\n",
    "Openness = 0\n",
    "\n",
    "#Adds scores to relevant categories\n",
    "for i in range(len(Big_Five_Results)):\n",
    "    if i in E_positions:\n",
    "        Extraversion += Big_Five_Results[i]\n",
    "    elif i in A_positions:\n",
    "        Agreeableness += Big_Five_Results[i]\n",
    "    elif i in C_positions:\n",
    "        Conscientiousness += Big_Five_Results[i]\n",
    "    elif i in N_positions:\n",
    "        Neuroticism += Big_Five_Results[i]\n",
    "    elif i in O_positions:\n",
    "        Openness += Big_Five_Results[i]\n",
    "\n",
    "#Finds largest\n",
    "def get_highest(E,A,C,N,O):\n",
    "    return max(zip((E,A,C,N,O), 'EACNO'), key=operator.itemgetter(0))\n",
    "print(get_highest(Extraversion,Agreeableness,Conscientiousness,Neuroticism,Openness))\n",
    "\n",
    "#Confirms values\n",
    "print(Extraversion,Agreeableness,Conscientiousness,Neuroticism,Openness)"
   ]
  },
  {
   "cell_type": "code",
   "execution_count": 61,
   "metadata": {},
   "outputs": [
    {
     "data": {
      "text/plain": [
       "{'Extraversion': 31,\n",
       " 'Agreeableness': 23,\n",
       " 'Conscientiousness': 22,\n",
       " 'Neuroticism': 24,\n",
       " 'Openness': 27}"
      ]
     },
     "execution_count": 61,
     "metadata": {},
     "output_type": "execute_result"
    }
   ],
   "source": [
    "{'Extraversion':Extraversion,\n",
    " 'Agreeableness': Agreeableness,\n",
    " 'Conscientiousness':Conscientiousness,\n",
    " 'Neuroticism':Neuroticism,\n",
    " 'Openness':Openness}"
   ]
  },
  {
   "cell_type": "code",
   "execution_count": null,
   "metadata": {},
   "outputs": [],
   "source": []
  }
 ],
 "metadata": {
  "kernelspec": {
   "display_name": "Python 3",
   "language": "python",
   "name": "python3"
  },
  "language_info": {
   "codemirror_mode": {
    "name": "ipython",
    "version": 3
   },
   "file_extension": ".py",
   "mimetype": "text/x-python",
   "name": "python",
   "nbconvert_exporter": "python",
   "pygments_lexer": "ipython3",
   "version": "3.7.10"
  }
 },
 "nbformat": 4,
 "nbformat_minor": 4
}
