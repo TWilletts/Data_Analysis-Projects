{
 "cells": [
  {
   "cell_type": "code",
   "execution_count": 1,
   "metadata": {},
   "outputs": [],
   "source": [
    "import pandas as pd\n",
    "import numpy as np\n",
    "import scipy.stats as stats\n",
    "import matplotlib.pyplot as plt\n",
    "import scipy"
   ]
  },
  {
   "cell_type": "code",
   "execution_count": 2,
   "metadata": {},
   "outputs": [
    {
     "data": {
      "text/html": [
       "<div>\n",
       "<style scoped>\n",
       "    .dataframe tbody tr th:only-of-type {\n",
       "        vertical-align: middle;\n",
       "    }\n",
       "\n",
       "    .dataframe tbody tr th {\n",
       "        vertical-align: top;\n",
       "    }\n",
       "\n",
       "    .dataframe thead th {\n",
       "        text-align: right;\n",
       "    }\n",
       "</style>\n",
       "<table border=\"1\" class=\"dataframe\">\n",
       "  <thead>\n",
       "    <tr style=\"text-align: right;\">\n",
       "      <th></th>\n",
       "      <th>Gender</th>\n",
       "      <th>Race</th>\n",
       "      <th>Parental_Education</th>\n",
       "      <th>TestPrep_Course</th>\n",
       "      <th>Special_Coaching</th>\n",
       "      <th>Attendance</th>\n",
       "      <th>DailyStudy_Hours</th>\n",
       "      <th>Result</th>\n",
       "    </tr>\n",
       "  </thead>\n",
       "  <tbody>\n",
       "    <tr>\n",
       "      <th>0</th>\n",
       "      <td>Female</td>\n",
       "      <td>Asian</td>\n",
       "      <td>Attended college</td>\n",
       "      <td>None</td>\n",
       "      <td>No</td>\n",
       "      <td>85.0</td>\n",
       "      <td>16.0</td>\n",
       "      <td>57.894737</td>\n",
       "    </tr>\n",
       "    <tr>\n",
       "      <th>1</th>\n",
       "      <td>Female</td>\n",
       "      <td>African American</td>\n",
       "      <td>Attended college</td>\n",
       "      <td>Completed</td>\n",
       "      <td>Yes</td>\n",
       "      <td>89.0</td>\n",
       "      <td>12.0</td>\n",
       "      <td>85.964912</td>\n",
       "    </tr>\n",
       "    <tr>\n",
       "      <th>2</th>\n",
       "      <td>Female</td>\n",
       "      <td>Asian</td>\n",
       "      <td>Master Degree</td>\n",
       "      <td>None</td>\n",
       "      <td>Yes</td>\n",
       "      <td>94.0</td>\n",
       "      <td>17.5</td>\n",
       "      <td>94.736842</td>\n",
       "    </tr>\n",
       "    <tr>\n",
       "      <th>3</th>\n",
       "      <td>Male</td>\n",
       "      <td>American</td>\n",
       "      <td>Associate Degree</td>\n",
       "      <td>None</td>\n",
       "      <td>No</td>\n",
       "      <td>65.0</td>\n",
       "      <td>10.0</td>\n",
       "      <td>45.614035</td>\n",
       "    </tr>\n",
       "    <tr>\n",
       "      <th>4</th>\n",
       "      <td>Male</td>\n",
       "      <td>African American</td>\n",
       "      <td>Attended college</td>\n",
       "      <td>None</td>\n",
       "      <td>No</td>\n",
       "      <td>80.0</td>\n",
       "      <td>13.0</td>\n",
       "      <td>64.912281</td>\n",
       "    </tr>\n",
       "    <tr>\n",
       "      <th>...</th>\n",
       "      <td>...</td>\n",
       "      <td>...</td>\n",
       "      <td>...</td>\n",
       "      <td>...</td>\n",
       "      <td>...</td>\n",
       "      <td>...</td>\n",
       "      <td>...</td>\n",
       "      <td>...</td>\n",
       "    </tr>\n",
       "    <tr>\n",
       "      <th>293</th>\n",
       "      <td>Female</td>\n",
       "      <td>Others</td>\n",
       "      <td>Bachelor Degree</td>\n",
       "      <td>None</td>\n",
       "      <td>No</td>\n",
       "      <td>78.0</td>\n",
       "      <td>16.0</td>\n",
       "      <td>56.140351</td>\n",
       "    </tr>\n",
       "    <tr>\n",
       "      <th>294</th>\n",
       "      <td>Male</td>\n",
       "      <td>Hispanic</td>\n",
       "      <td>High school</td>\n",
       "      <td>Completed</td>\n",
       "      <td>No</td>\n",
       "      <td>73.0</td>\n",
       "      <td>12.0</td>\n",
       "      <td>63.157895</td>\n",
       "    </tr>\n",
       "    <tr>\n",
       "      <th>295</th>\n",
       "      <td>Male</td>\n",
       "      <td>Asian</td>\n",
       "      <td>Associate Degree</td>\n",
       "      <td>None</td>\n",
       "      <td>No</td>\n",
       "      <td>59.0</td>\n",
       "      <td>15.5</td>\n",
       "      <td>36.842105</td>\n",
       "    </tr>\n",
       "    <tr>\n",
       "      <th>296</th>\n",
       "      <td>Male</td>\n",
       "      <td>American</td>\n",
       "      <td>High school</td>\n",
       "      <td>Completed</td>\n",
       "      <td>No</td>\n",
       "      <td>70.0</td>\n",
       "      <td>14.0</td>\n",
       "      <td>15.789474</td>\n",
       "    </tr>\n",
       "    <tr>\n",
       "      <th>297</th>\n",
       "      <td>Male</td>\n",
       "      <td>Others</td>\n",
       "      <td>Associate Degree</td>\n",
       "      <td>Completed</td>\n",
       "      <td>Yes</td>\n",
       "      <td>87.0</td>\n",
       "      <td>15.0</td>\n",
       "      <td>57.894737</td>\n",
       "    </tr>\n",
       "  </tbody>\n",
       "</table>\n",
       "<p>298 rows × 8 columns</p>\n",
       "</div>"
      ],
      "text/plain": [
       "     Gender              Race Parental_Education TestPrep_Course  \\\n",
       "0    Female             Asian   Attended college            None   \n",
       "1    Female  African American   Attended college       Completed   \n",
       "2    Female             Asian      Master Degree            None   \n",
       "3      Male          American   Associate Degree            None   \n",
       "4      Male  African American   Attended college            None   \n",
       "..      ...               ...                ...             ...   \n",
       "293  Female            Others    Bachelor Degree            None   \n",
       "294    Male          Hispanic        High school       Completed   \n",
       "295    Male             Asian   Associate Degree            None   \n",
       "296    Male          American        High school       Completed   \n",
       "297    Male            Others   Associate Degree       Completed   \n",
       "\n",
       "    Special_Coaching  Attendance  DailyStudy_Hours     Result  \n",
       "0                 No        85.0              16.0  57.894737  \n",
       "1                Yes        89.0              12.0  85.964912  \n",
       "2                Yes        94.0              17.5  94.736842  \n",
       "3                 No        65.0              10.0  45.614035  \n",
       "4                 No        80.0              13.0  64.912281  \n",
       "..               ...         ...               ...        ...  \n",
       "293               No        78.0              16.0  56.140351  \n",
       "294               No        73.0              12.0  63.157895  \n",
       "295               No        59.0              15.5  36.842105  \n",
       "296               No        70.0              14.0  15.789474  \n",
       "297              Yes        87.0              15.0  57.894737  \n",
       "\n",
       "[298 rows x 8 columns]"
      ]
     },
     "execution_count": 2,
     "metadata": {},
     "output_type": "execute_result"
    }
   ],
   "source": [
    "hs = pd.read_csv(r'C:\\Users\\Tom\\Downloads\\HighSchool.csv')\n",
    "hs = hs.drop(['SL No.'], axis=1)\n",
    "for x in range(len(hs)):\n",
    "    hs.Result= (hs.Result-hs.Result.min())/(hs.Result.max()-hs.Result.min())*100\n",
    "hs"
   ]
  },
  {
   "cell_type": "code",
   "execution_count": 3,
   "metadata": {},
   "outputs": [
    {
     "data": {
      "text/html": [
       "<div>\n",
       "<style scoped>\n",
       "    .dataframe tbody tr th:only-of-type {\n",
       "        vertical-align: middle;\n",
       "    }\n",
       "\n",
       "    .dataframe tbody tr th {\n",
       "        vertical-align: top;\n",
       "    }\n",
       "\n",
       "    .dataframe thead th {\n",
       "        text-align: right;\n",
       "    }\n",
       "</style>\n",
       "<table border=\"1\" class=\"dataframe\">\n",
       "  <thead>\n",
       "    <tr style=\"text-align: right;\">\n",
       "      <th></th>\n",
       "      <th>Gender</th>\n",
       "      <th>Race</th>\n",
       "      <th>Parental_Education</th>\n",
       "      <th>TestPrep_Course</th>\n",
       "      <th>Special_Coaching</th>\n",
       "      <th>Attendance</th>\n",
       "      <th>DailyStudy_Hours</th>\n",
       "      <th>Result</th>\n",
       "    </tr>\n",
       "  </thead>\n",
       "  <tbody>\n",
       "    <tr>\n",
       "      <th>0</th>\n",
       "      <td>1</td>\n",
       "      <td>1</td>\n",
       "      <td>2</td>\n",
       "      <td>1.0</td>\n",
       "      <td>1.0</td>\n",
       "      <td>85.0</td>\n",
       "      <td>16.0</td>\n",
       "      <td>57.894737</td>\n",
       "    </tr>\n",
       "    <tr>\n",
       "      <th>1</th>\n",
       "      <td>1</td>\n",
       "      <td>2</td>\n",
       "      <td>2</td>\n",
       "      <td>2.0</td>\n",
       "      <td>2.0</td>\n",
       "      <td>89.0</td>\n",
       "      <td>12.0</td>\n",
       "      <td>85.964912</td>\n",
       "    </tr>\n",
       "    <tr>\n",
       "      <th>2</th>\n",
       "      <td>1</td>\n",
       "      <td>1</td>\n",
       "      <td>5</td>\n",
       "      <td>1.0</td>\n",
       "      <td>2.0</td>\n",
       "      <td>94.0</td>\n",
       "      <td>17.5</td>\n",
       "      <td>94.736842</td>\n",
       "    </tr>\n",
       "    <tr>\n",
       "      <th>3</th>\n",
       "      <td>2</td>\n",
       "      <td>3</td>\n",
       "      <td>3</td>\n",
       "      <td>1.0</td>\n",
       "      <td>1.0</td>\n",
       "      <td>65.0</td>\n",
       "      <td>10.0</td>\n",
       "      <td>45.614035</td>\n",
       "    </tr>\n",
       "    <tr>\n",
       "      <th>4</th>\n",
       "      <td>2</td>\n",
       "      <td>2</td>\n",
       "      <td>2</td>\n",
       "      <td>1.0</td>\n",
       "      <td>1.0</td>\n",
       "      <td>80.0</td>\n",
       "      <td>13.0</td>\n",
       "      <td>64.912281</td>\n",
       "    </tr>\n",
       "    <tr>\n",
       "      <th>...</th>\n",
       "      <td>...</td>\n",
       "      <td>...</td>\n",
       "      <td>...</td>\n",
       "      <td>...</td>\n",
       "      <td>...</td>\n",
       "      <td>...</td>\n",
       "      <td>...</td>\n",
       "      <td>...</td>\n",
       "    </tr>\n",
       "    <tr>\n",
       "      <th>293</th>\n",
       "      <td>1</td>\n",
       "      <td>5</td>\n",
       "      <td>4</td>\n",
       "      <td>1.0</td>\n",
       "      <td>1.0</td>\n",
       "      <td>78.0</td>\n",
       "      <td>16.0</td>\n",
       "      <td>56.140351</td>\n",
       "    </tr>\n",
       "    <tr>\n",
       "      <th>294</th>\n",
       "      <td>2</td>\n",
       "      <td>4</td>\n",
       "      <td>1</td>\n",
       "      <td>2.0</td>\n",
       "      <td>1.0</td>\n",
       "      <td>73.0</td>\n",
       "      <td>12.0</td>\n",
       "      <td>63.157895</td>\n",
       "    </tr>\n",
       "    <tr>\n",
       "      <th>295</th>\n",
       "      <td>2</td>\n",
       "      <td>1</td>\n",
       "      <td>3</td>\n",
       "      <td>1.0</td>\n",
       "      <td>1.0</td>\n",
       "      <td>59.0</td>\n",
       "      <td>15.5</td>\n",
       "      <td>36.842105</td>\n",
       "    </tr>\n",
       "    <tr>\n",
       "      <th>296</th>\n",
       "      <td>2</td>\n",
       "      <td>3</td>\n",
       "      <td>1</td>\n",
       "      <td>2.0</td>\n",
       "      <td>1.0</td>\n",
       "      <td>70.0</td>\n",
       "      <td>14.0</td>\n",
       "      <td>15.789474</td>\n",
       "    </tr>\n",
       "    <tr>\n",
       "      <th>297</th>\n",
       "      <td>2</td>\n",
       "      <td>5</td>\n",
       "      <td>3</td>\n",
       "      <td>2.0</td>\n",
       "      <td>2.0</td>\n",
       "      <td>87.0</td>\n",
       "      <td>15.0</td>\n",
       "      <td>57.894737</td>\n",
       "    </tr>\n",
       "  </tbody>\n",
       "</table>\n",
       "<p>298 rows × 8 columns</p>\n",
       "</div>"
      ],
      "text/plain": [
       "     Gender  Race  Parental_Education  TestPrep_Course  Special_Coaching  \\\n",
       "0         1     1                   2              1.0               1.0   \n",
       "1         1     2                   2              2.0               2.0   \n",
       "2         1     1                   5              1.0               2.0   \n",
       "3         2     3                   3              1.0               1.0   \n",
       "4         2     2                   2              1.0               1.0   \n",
       "..      ...   ...                 ...              ...               ...   \n",
       "293       1     5                   4              1.0               1.0   \n",
       "294       2     4                   1              2.0               1.0   \n",
       "295       2     1                   3              1.0               1.0   \n",
       "296       2     3                   1              2.0               1.0   \n",
       "297       2     5                   3              2.0               2.0   \n",
       "\n",
       "     Attendance  DailyStudy_Hours     Result  \n",
       "0          85.0              16.0  57.894737  \n",
       "1          89.0              12.0  85.964912  \n",
       "2          94.0              17.5  94.736842  \n",
       "3          65.0              10.0  45.614035  \n",
       "4          80.0              13.0  64.912281  \n",
       "..          ...               ...        ...  \n",
       "293        78.0              16.0  56.140351  \n",
       "294        73.0              12.0  63.157895  \n",
       "295        59.0              15.5  36.842105  \n",
       "296        70.0              14.0  15.789474  \n",
       "297        87.0              15.0  57.894737  \n",
       "\n",
       "[298 rows x 8 columns]"
      ]
     },
     "execution_count": 3,
     "metadata": {},
     "output_type": "execute_result"
    }
   ],
   "source": [
    "hs = hs.replace('Female', 1)\n",
    "hs = hs.replace('Male', 2)\n",
    "hs = hs.replace('None', 1)\n",
    "hs = hs.replace('Completed', 2)\n",
    "hs = hs.replace('No', 1)\n",
    "hs = hs.replace('Yes', 2)\n",
    "hs = hs.replace('Asian', 1)\n",
    "hs = hs.replace('African American', 2)\n",
    "hs = hs.replace('American', 3)\n",
    "hs = hs.replace('Hispanic', 4)\n",
    "hs = hs.replace('Others', 5)\n",
    "hs = hs.replace('High school', 1)\n",
    "hs = hs.replace('Attended college', 2)\n",
    "hs = hs.replace('Associate Degree', 3)\n",
    "hs = hs.replace('Bachelor Degree', 4)\n",
    "hs = hs.replace('Master Degree', 5)\n",
    "hs"
   ]
  },
  {
   "cell_type": "code",
   "execution_count": 4,
   "metadata": {},
   "outputs": [
    {
     "data": {
      "image/png": "[encoded data removed]",
      "text/plain": [
       "<Figure size 1440x1080 with 9 Axes>"
      ]
     },
     "metadata": {
      "needs_background": "light"
     },
     "output_type": "display_data"
    }
   ],
   "source": [
    "hs.hist(figsize=(20,15), color='r')\n",
    "plt.show()"
   ]
  },
  {
   "cell_type": "code",
   "execution_count": 5,
   "metadata": {},
   "outputs": [
    {
     "data": {
      "text/plain": [
       "count    298.000000\n",
       "mean      51.545390\n",
       "std       22.239708\n",
       "min        0.000000\n",
       "25%       35.087719\n",
       "50%       52.631579\n",
       "75%       68.421053\n",
       "max      100.000000\n",
       "Name: Result, dtype: float64"
      ]
     },
     "execution_count": 5,
     "metadata": {},
     "output_type": "execute_result"
    }
   ],
   "source": [
    "hs.Result.describe()"
   ]
  },
  {
   "cell_type": "code",
   "execution_count": 6,
   "metadata": {},
   "outputs": [
    {
     "name": "stdout",
     "output_type": "stream",
     "text": [
      "57.502146975831195\n",
      "46.04980192416527\n"
     ]
    },
    {
     "data": {
      "text/plain": [
       "Ttest_indResult(statistic=4.588601425355186, pvalue=6.599359940638764e-06)"
      ]
     },
     "execution_count": 6,
     "metadata": {},
     "output_type": "execute_result"
    }
   ],
   "source": [
    "#significance of gender on performance\n",
    "print(hs['Result'][hs['Gender'] == 1].mean())\n",
    "print(hs['Result'][hs['Gender'] == 2].mean())\n",
    "stats.ttest_ind(hs['Result'][hs['Gender'] == 1],\n",
    "                hs['Result'][hs['Gender'] == 2])"
   ]
  },
  {
   "cell_type": "code",
   "execution_count": 7,
   "metadata": {},
   "outputs": [
    {
     "name": "stdout",
     "output_type": "stream",
     "text": [
      "47.11779448621554\n",
      "59.44606887589348\n"
     ]
    },
    {
     "data": {
      "text/plain": [
       "Ttest_indResult(statistic=-4.756865539327335, pvalue=3.0813497044964337e-06)"
      ]
     },
     "execution_count": 7,
     "metadata": {},
     "output_type": "execute_result"
    }
   ],
   "source": [
    "#significance of test prep on performance\n",
    "print(hs['Result'][hs['TestPrep_Course'] == 1].mean())\n",
    "print(hs['Result'][hs['TestPrep_Course'] == 2].mean())\n",
    "stats.ttest_ind(hs['Result'][hs['TestPrep_Course'] == 1],\n",
    "                hs['Result'][hs['TestPrep_Course'] == 2])"
   ]
  },
  {
   "cell_type": "code",
   "execution_count": 17,
   "metadata": {},
   "outputs": [
    {
     "name": "stdout",
     "output_type": "stream",
     "text": [
      "46.78362573099415\n",
      "60.877192982456144\n"
     ]
    },
    {
     "data": {
      "text/plain": [
       "Ttest_indResult(statistic=-2.5233529922136926, pvalue=0.012899066393626016)"
      ]
     },
     "execution_count": 17,
     "metadata": {},
     "output_type": "execute_result"
    }
   ],
   "source": [
    "#significance of extreme parental education on performance\n",
    "print(hs['Result'][hs['Parental_Education'] == 1].mean())\n",
    "print(hs['Result'][hs['Parental_Education'] == 5].mean())\n",
    "stats.ttest_ind(hs['Result'][hs['Parental_Education'] == 1],\n",
    "                hs['Result'][hs['Parental_Education'] == 5])"
   ]
  },
  {
   "cell_type": "code",
   "execution_count": 9,
   "metadata": {},
   "outputs": [
    {
     "name": "stdout",
     "output_type": "stream",
     "text": [
      "51.49493451939712\n",
      "51.607243916242226\n"
     ]
    },
    {
     "data": {
      "text/plain": [
       "Ttest_indResult(statistic=-0.043327305188261875, pvalue=0.965469936998338)"
      ]
     },
     "execution_count": 9,
     "metadata": {},
     "output_type": "execute_result"
    }
   ],
   "source": [
    "#significance of special coaching on performance\n",
    "print(hs['Result'][hs['Special_Coaching'] == 1].mean())\n",
    "print(hs['Result'][hs['Special_Coaching'] == 2].mean())\n",
    "stats.ttest_ind(hs['Result'][hs['Special_Coaching'] == 1],\n",
    "                hs['Result'][hs['Special_Coaching'] == 2])"
   ]
  },
  {
   "cell_type": "code",
   "execution_count": 10,
   "metadata": {},
   "outputs": [
    {
     "name": "stdout",
     "output_type": "stream",
     "text": [
      "53.115998952605395\n",
      "51.96136408436824\n"
     ]
    },
    {
     "data": {
      "text/plain": [
       "Ttest_indResult(statistic=2.431033242475477, pvalue=0.016717556141669726)"
      ]
     },
     "execution_count": 10,
     "metadata": {},
     "output_type": "execute_result"
    }
   ],
   "source": [
    "print(hs['Result'][hs['Race'] == 1].mean())\n",
    "print(hs['Result'][hs['Race'] == 2].mean())\n",
    "stats.ttest_ind(hs['Result'][hs['Race'] == 2],\n",
    "                hs['Result'][hs['Race'] == 3])"
   ]
  },
  {
   "cell_type": "code",
   "execution_count": 11,
   "metadata": {},
   "outputs": [
    {
     "name": "stdout",
     "output_type": "stream",
     "text": [
      "              Result  Attendance\n",
      "Result      1.000000    0.124879\n",
      "Attendance  0.124879    1.000000\n"
     ]
    }
   ],
   "source": [
    "#Correlating attendance and performance\n",
    "data = hs[['Result','Attendance']]\n",
    "correlation = data.corr(method='pearson')\n",
    "print(correlation)"
   ]
  },
  {
   "cell_type": "code",
   "execution_count": 12,
   "metadata": {},
   "outputs": [
    {
     "name": "stdout",
     "output_type": "stream",
     "text": [
      "                    Result  DailyStudy_Hours\n",
      "Result            1.000000         -0.001031\n",
      "DailyStudy_Hours -0.001031          1.000000\n"
     ]
    }
   ],
   "source": [
    "#Correlating daily study and performance\n",
    "data = hs[['Result','DailyStudy_Hours']]\n",
    "correlation = data.corr(method='pearson')\n",
    "print(correlation)"
   ]
  },
  {
   "cell_type": "code",
   "execution_count": 13,
   "metadata": {},
   "outputs": [
    {
     "name": "stdout",
     "output_type": "stream",
     "text": [
      "                      Result  Parental_Education\n",
      "Result              1.000000            0.187725\n",
      "Parental_Education  0.187725            1.000000\n"
     ]
    }
   ],
   "source": [
    "#Correlating parent education and performance\n",
    "data = hs[['Result','Parental_Education']]\n",
    "correlation = data.corr(method='pearson')\n",
    "print(correlation)"
   ]
  },
  {
   "cell_type": "code",
   "execution_count": 14,
   "metadata": {},
   "outputs": [
    {
     "name": "stdout",
     "output_type": "stream",
     "text": [
      "57.78841041998936\n",
      "50.76795762992382\n"
     ]
    },
    {
     "data": {
      "text/plain": [
       "Ttest_indResult(statistic=1.7156317278676523, pvalue=0.08727587595641922)"
      ]
     },
     "execution_count": 14,
     "metadata": {},
     "output_type": "execute_result"
    }
   ],
   "source": [
    "hs['Attendance'] = hs['Attendance'].apply(lambda x: 'Low' if x < 85 else 'High')\n",
    "hs.Attendance.value_counts()\n",
    "print(hs['Result'][hs['Attendance'] == 'High'].mean())\n",
    "print(hs['Result'][hs['Attendance'] == 'Low'].mean())\n",
    "stats.ttest_ind(hs['Result'][hs['Attendance'] == 'High'],\n",
    "                hs['Result'][hs['Attendance'] == 'Low'])"
   ]
  },
  {
   "cell_type": "code",
   "execution_count": 15,
   "metadata": {},
   "outputs": [
    {
     "name": "stdout",
     "output_type": "stream",
     "text": [
      "52.309941520467824\n",
      "51.352646321686514\n"
     ]
    },
    {
     "data": {
      "text/plain": [
       "Ttest_indResult(statistic=0.29751257333325704, pvalue=0.7662839042356125)"
      ]
     },
     "execution_count": 15,
     "metadata": {},
     "output_type": "execute_result"
    }
   ],
   "source": [
    "hs['DailyStudy_Hours'] = hs['DailyStudy_Hours'].apply(lambda x: 'Low' if x < 16 else 'High')\n",
    "hs.DailyStudy_Hours.value_counts()\n",
    "print(hs['Result'][hs['DailyStudy_Hours'] == 'High'].mean())\n",
    "print(hs['Result'][hs['DailyStudy_Hours'] == 'Low'].mean())\n",
    "stats.ttest_ind(hs['Result'][hs['DailyStudy_Hours'] == 'High'],\n",
    "                hs['Result'][hs['DailyStudy_Hours'] == 'Low'])"
   ]
  }
 ],
 "metadata": {
  "kernelspec": {
   "display_name": "Python 3",
   "language": "python",
   "name": "python3"
  },
  "language_info": {
   "codemirror_mode": {
    "name": "ipython",
    "version": 3
   },
   "file_extension": ".py",
   "mimetype": "text/x-python",
   "name": "python",
   "nbconvert_exporter": "python",
   "pygments_lexer": "ipython3",
   "version": "3.7.10"
  }
 },
 "nbformat": 4,
 "nbformat_minor": 4
}
